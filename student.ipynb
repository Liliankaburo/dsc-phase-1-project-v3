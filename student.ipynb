{
 "cells": [
  {
   "cell_type": "markdown",
   "metadata": {},
   "source": [
    "## Phase 1 Project \n",
    "\n",
    "\n",
    "* Student name: LILIAN KABURO\n",
    "\n",
    "* Student pace: SELF PACED/HYBRID\n",
    "\n",
    "* Instructor name: MARYANN MWIKALI\n",
    "\n"
   ]
  },
  {
   "cell_type": "markdown",
   "metadata": {},
   "source": [
    "# AVIATION ACCIDENTS AND RISK FACTORS ANALYSIS"
   ]
  },
  {
   "cell_type": "markdown",
   "metadata": {},
   "source": [
    "# Introduction\n"
   ]
  },
  {
   "cell_type": "markdown",
   "metadata": {},
   "source": [
    "\n",
    "Despite the number of aviation accidents recorded over the years,flying remains the safest mode of transport.In comparison to accidents and fatalities from let's say road transport,aviation accidents are not as frequent.That said,aviation industry is a lucrative venture but not without its risks and limitations.This projects aims to identify risk factors that contribute to accident occurrences and how they relate to specific aircraft models to assist company stakeholders make informed decisions on which aircraft model is suited best for new venture into the aviation industry.\n",
    "\n"
   ]
  },
  {
   "cell_type": "markdown",
   "metadata": {},
   "source": [
    "# Project Overview\n"
   ]
  },
  {
   "cell_type": "markdown",
   "metadata": {},
   "source": [
    "# Objective"
   ]
  },
  {
   "cell_type": "markdown",
   "metadata": {},
   "source": [
    "This project,using the data from NTSB Aviation Accidents dataset(1962-2023), aims to assess and identify the aircraft model with the lowest risk factors that affect and contribute to the frequency and severity of aviation accidents.\n",
    "The information derived from an extensive analysis of the available data will help in making informed decisions in  purchasing the aircraft to venture into the aviation industry."
   ]
  },
  {
   "cell_type": "markdown",
   "metadata": {},
   "source": [
    "# Problem Definition / Business Understanding"
   ]
  },
  {
   "cell_type": "markdown",
   "metadata": {},
   "source": [
    "Green Collar Solutions Limited is expanding into new industries to diversify its portfolio. Among those being considered by the company's stakeholders is a venture into the Aviation industries (purchasing and operating aircfats for commercial and private enterprises).My task in this project is to answer the following questions for the stakeholders.\n",
    "\n",
    "(i). What are the risk factors associated with different aircrafts?\n",
    "(ii). Do the accidents rates depend on whether the aircraft is commercial or private?\n",
    "(iii). Does the model of an aircraft minimize or increase it's risk factors?\n",
    "\n",
    "Answers to these questions will determine which model,where privately or commercially operated, has the lowest risks of getting into an accident regardless of other factors like weather or human error etc."
   ]
  },
  {
   "cell_type": "markdown",
   "metadata": {},
   "source": [
    "# Metrics for success"
   ]
  },
  {
   "cell_type": "markdown",
   "metadata": {},
   "source": [
    "Being successifully able to analyse the data available and giving well researched information that provides actionable insights to green collar solutions to confidently venture into the Aviation industries while minimizing among others,financial risks."
   ]
  },
  {
   "cell_type": "markdown",
   "metadata": {},
   "source": [
    "# Steps for accomplishing the project's objectives.\n"
   ]
  },
  {
   "cell_type": "markdown",
   "metadata": {},
   "source": [
    "1. Data collection>>> get data from NTSB aviation accidents report for 1962-2023\n",
    "2. Data cleaning or preprocessing data using pandas libraries in Python\n",
    "3. Data exploration - doing an indepth data analysis of the report to show trends,factor relationships and patterns(EDA)\n",
    "4. Actionable insights and recommendations - translate the findings of the Exploratory data analysis into actionable insights and recommendations.\n",
    "5. Effective visualizations to communicate the insights and recommendations to Green collar Solutions limited stakeholders to help them in making informed decisions on their new venture."
   ]
  },
  {
   "cell_type": "markdown",
   "metadata": {},
   "source": [
    "It's important to note also that i will consider the relevance of the data in the NTSB Report in relation to the task i want to accomplish. Data also has to be complete,accurate,consistent and reliable."
   ]
  },
  {
   "cell_type": "code",
   "execution_count": null,
   "metadata": {},
   "outputs": [],
   "source": []
  }
 ],
 "metadata": {
  "kernelspec": {
   "display_name": "Python (learn-env)",
   "language": "python",
   "name": "learn-env"
  },
  "language_info": {
   "codemirror_mode": {
    "name": "ipython",
    "version": 3
   },
   "file_extension": ".py",
   "mimetype": "text/x-python",
   "name": "python",
   "nbconvert_exporter": "python",
   "pygments_lexer": "ipython3",
   "version": "3.8.5"
  }
 },
 "nbformat": 4,
 "nbformat_minor": 2
}
